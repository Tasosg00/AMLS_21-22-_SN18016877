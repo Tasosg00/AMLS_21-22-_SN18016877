{
  "nbformat": 4,
  "nbformat_minor": 0,
  "metadata": {
    "colab": {
      "name": "AMLS_TaskAB.ipynb",
      "provenance": [],
      "collapsed_sections": []
    },
    "kernelspec": {
      "name": "python3",
      "display_name": "Python 3"
    },
    "language_info": {
      "name": "python"
    }
  },
  "cells": [
    {
      "cell_type": "code",
      "execution_count": 54,
      "metadata": {
        "id": "cqTZB6FD__GL",
        "colab": {
          "base_uri": "https://localhost:8080/"
        },
        "outputId": "84b32fee-48f2-41da-9776-2efafd4f75b6"
      },
      "outputs": [
        {
          "output_type": "stream",
          "name": "stdout",
          "text": [
            "0 0 1\n"
          ]
        }
      ],
      "source": [
        "import matplotlib.pyplot as plt\n",
        "from skimage.io import imread, imshow\n",
        "from keras.preprocessing import image\n",
        "\n",
        "import numpy as np\n",
        "import pandas as pd\n",
        "\n",
        "BINARY = 0 # 0 for CATEGORICAL \n",
        "SVM = 0    # 1 for SVM\n",
        "DNN = 1    # 1 for DNN\n",
        "CNN = 0    # 1 for CNN infront of DNN\n",
        "if SVM == 1 : DNN = 0 \n",
        "else : DNN = 1\n",
        "print(BINARY,SVM,DNN)"
      ]
    },
    {
      "cell_type": "code",
      "source": [
        "#set up google drive access with the dataset folder \n",
        "import os \n",
        "basedir = './dataset'\n",
        "images_dir = os.path.join(basedir,'image20')\n",
        "labels_filename = 'label.csv'\n",
        "\n",
        "from google.colab import drive\n",
        "drive.mount('/content/drive/')\n",
        "\n",
        "%cd '/content/drive/My Drive/A/'"
      ],
      "metadata": {
        "colab": {
          "base_uri": "https://localhost:8080/"
        },
        "id": "LdCtWCXJAOBh",
        "outputId": "e31c9ad4-6a8f-4fac-807f-01462915218c"
      },
      "execution_count": 55,
      "outputs": [
        {
          "output_type": "stream",
          "name": "stdout",
          "text": [
            "Drive already mounted at /content/drive/; to attempt to forcibly remount, call drive.mount(\"/content/drive/\", force_remount=True).\n",
            "/content/drive/My Drive/A\n"
          ]
        }
      ]
    },
    {
      "cell_type": "markdown",
      "source": [
        ""
      ],
      "metadata": {
        "id": "IwobP5OPzLXx"
      }
    },
    {
      "cell_type": "code",
      "source": [
        "# Read labels file into labelsDF Pandas DataFrame \n",
        "labelsDF = pd.read_csv('dataset/label.csv') # import pandas to read CSV / labelsDF is a pandas data frame \n",
        "labels1DF = pd.read_csv('test/label.csv') # import the real test dataset  \n",
        "print(labelsDF.head(20))\n",
        "print(labels1DF.head(10))\n",
        "\n",
        "labels = np.array(labelsDF.label)  # set labels as np array \n",
        "labels1 = np.array(labels1DF.label)  # set labels as np array \n",
        "print(labels1[0])\n",
        "\n",
        "# Extract classes and nr_classes\n",
        "if BINARY == 1 :    # Binary Case \n",
        "   nr_classes = 2 \n",
        "   classes = np.array(['no_tumor','tumor'])\n",
        "else: #Categorical \n",
        "   classes = np.unique(labelsDF.label) # creates a numpy array to place unique labels\n",
        "   nr_classes = len(np.unique(classes))\n",
        "\n",
        "y = np.arange(3000)  # define output array y for primary dataset \n",
        "\n",
        "# assign output variable y for primary dataset\n",
        "if BINARY == 1 :    # Binary Case \n",
        "   for i in range(0,3000) : \n",
        "       if labels[i] == 'no_tumor' : y[i]=0 \n",
        "       else: y[i]=1 \n",
        "else:               # Categorical \n",
        "   for i in range(0,3000) : \n",
        "       if labels[i] == classes[0] : y[i]=0 \n",
        "       if labels[i] == classes[1] : y[i]=1 \n",
        "       if labels[i] == classes[2] : y[i]=2 \n",
        "       if labels[i] == classes[3] : y[i]=3 \n",
        "\n",
        "\n",
        "y1 = np.arange(200)  # define output array y for real test dataset \n",
        "\n",
        "# assign output variable y1 for real test dataset\n",
        "if BINARY == 1 :    # Binary Case \n",
        "   for i in range(0,200) : \n",
        "       if labels1[i] == 'no_tumor' : y1[i]=0 \n",
        "       else: y1[i]=1 \n",
        "else:               # Categorical \n",
        "   for i in range(0,200) : \n",
        "       if labels1[i] == classes[0] : y1[i]=0 \n",
        "       if labels1[i] == classes[1] : y1[i]=1 \n",
        "       if labels1[i] == classes[2] : y1[i]=2 \n",
        "       if labels1[i] == classes[3] : y1[i]=3 \n",
        "\n",
        "\n",
        "print('Nr_Classes :',nr_classes)\n",
        "print(type(classes))\n",
        "print(classes)\n",
        "\n",
        "print('Primary dataset   :',y.shape,np.sum(y))\n",
        "print('Real test dataset :',y1.shape,np.sum(y1))\n",
        "print(y[0],y[1],y[2],y[3],y[4],y[5],y[6],y[7],y[8])\n",
        "print(y1[0],y1[1],y1[2],y1[3],y1[4],y1[5],y1[6],y1[7],y1[8])"
      ],
      "metadata": {
        "colab": {
          "base_uri": "https://localhost:8080/"
        },
        "id": "VxUXQ1pfdT5l",
        "outputId": "2fc4d897-87d8-40c9-e208-2ff8d773ed7c"
      },
      "execution_count": 56,
      "outputs": [
        {
          "output_type": "stream",
          "name": "stdout",
          "text": [
            "         file_name             label\n",
            "0   IMAGE_0000.jpg  meningioma_tumor\n",
            "1   IMAGE_0001.jpg          no_tumor\n",
            "2   IMAGE_0002.jpg  meningioma_tumor\n",
            "3   IMAGE_0003.jpg      glioma_tumor\n",
            "4   IMAGE_0004.jpg  meningioma_tumor\n",
            "5   IMAGE_0005.jpg  meningioma_tumor\n",
            "6   IMAGE_0006.jpg          no_tumor\n",
            "7   IMAGE_0007.jpg      glioma_tumor\n",
            "8   IMAGE_0008.jpg      glioma_tumor\n",
            "9   IMAGE_0009.jpg   pituitary_tumor\n",
            "10  IMAGE_0010.jpg   pituitary_tumor\n",
            "11  IMAGE_0011.jpg      glioma_tumor\n",
            "12  IMAGE_0012.jpg      glioma_tumor\n",
            "13  IMAGE_0013.jpg   pituitary_tumor\n",
            "14  IMAGE_0014.jpg   pituitary_tumor\n",
            "15  IMAGE_0015.jpg  meningioma_tumor\n",
            "16  IMAGE_0016.jpg  meningioma_tumor\n",
            "17  IMAGE_0017.jpg   pituitary_tumor\n",
            "18  IMAGE_0018.jpg   pituitary_tumor\n",
            "19  IMAGE_0019.jpg          no_tumor\n",
            "        file_name             label\n",
            "0  IMAGE_0000.jpg  meningioma_tumor\n",
            "1  IMAGE_0001.jpg  meningioma_tumor\n",
            "2  IMAGE_0002.jpg      glioma_tumor\n",
            "3  IMAGE_0003.jpg   pituitary_tumor\n",
            "4  IMAGE_0004.jpg      glioma_tumor\n",
            "5  IMAGE_0005.jpg   pituitary_tumor\n",
            "6  IMAGE_0006.jpg   pituitary_tumor\n",
            "7  IMAGE_0007.jpg   pituitary_tumor\n",
            "8  IMAGE_0008.jpg   pituitary_tumor\n",
            "9  IMAGE_0009.jpg      glioma_tumor\n",
            "meningioma_tumor\n",
            "Nr_Classes : 4\n",
            "<class 'numpy.ndarray'>\n",
            "['glioma_tumor' 'meningioma_tumor' 'no_tumor' 'pituitary_tumor']\n",
            "Primary dataset   : (3000,) 4256\n",
            "Real test dataset : (200,) 298\n",
            "1 2 1 0 1 1 2 0 0\n",
            "1 1 0 3 0 3 3 3 3\n"
          ]
        }
      ]
    },
    {
      "cell_type": "code",
      "source": [
        "#experiment with some images \n",
        "\n",
        "img = imread('test/image/IMAGE_0001.jpg')\n",
        "\n",
        "imgplot = plt.imshow(img)\n",
        "#imgplot = plt.imshow(img[::4,::4,:])\n",
        "\n",
        "#img = mpimg.imread('dataset/image/IMAGE_0001.jpg')\n",
        "#imgplot = plt.imshow(img[::4,::4,0])  \n",
        "\n",
        "print(img.shape)\n",
        "#print(img_resized.shape)\n",
        "print(img[:,:,0].shape)\n",
        "print(img[:,:,0].flatten().shape)\n",
        "print(img[::4,::4,0].flatten().shape)  # reduced shape "
      ],
      "metadata": {
        "colab": {
          "base_uri": "https://localhost:8080/",
          "height": 338
        },
        "id": "xNJi4e1kAeHV",
        "outputId": "5a84a030-967f-4afb-deb5-f62635067cb8"
      },
      "execution_count": 57,
      "outputs": [
        {
          "output_type": "stream",
          "name": "stdout",
          "text": [
            "(512, 512, 3)\n",
            "(512, 512)\n",
            "(262144,)\n",
            "(16384,)\n"
          ]
        },
        {
          "output_type": "display_data",
          "data": {
            "image/png": "[encoded data removed]",
            "text/plain": [
              "<Figure size 432x288 with 1 Axes>"
            ]
          },
          "metadata": {
            "needs_background": "light"
          }
        }
      ]
    },
    {
      "cell_type": "code",
      "source": [
        "# Create list with images filename and load into feature array X \n",
        "\n",
        "image_filenames = []\n",
        "for i in range(3000):\n",
        "    image_filenames.append(f'dataset/image/IMAGE_{i:04}.jpg'.format(i))\n",
        "\n",
        "#creating X list with image content - images are downsized and flattened for SVM \n",
        "X=[]\n",
        "for imagef in image_filenames:\n",
        "    img = imread(imagef)\n",
        "    if SVM == 1: \n",
        "       X.append(img[::2,::2,0].flatten())  # flatten for SVM \n",
        "    else: \n",
        "       X.append(img[::2,::2,0])  # only resize for DNN\n",
        " \n",
        "X = np.array(X)  # transform X to nparray for further input to SVM or DNN\n",
        "\n",
        "# Normalize the pixel values \n",
        "#X = X / 255.   \n",
        "\n",
        "print(X.shape)\n",
        "#for i in range(0,10) :\n",
        "#    print(i,X[i],XX[i])"
      ],
      "metadata": {
        "id": "cuOCcawaAxKY",
        "colab": {
          "base_uri": "https://localhost:8080/"
        },
        "outputId": "3a34bc4a-e4ef-4da7-e1e5-5de180ab9e49"
      },
      "execution_count": 58,
      "outputs": [
        {
          "output_type": "stream",
          "name": "stdout",
          "text": [
            "(3000, 256, 256)\n"
          ]
        }
      ]
    },
    {
      "cell_type": "code",
      "source": [
        "# Load the real test dataset to array X1  \n",
        "\n",
        "image_filenames = []\n",
        "for i in range(200):\n",
        "    image_filenames.append(f'test/image/IMAGE_{i:04}.jpg'.format(i))\n",
        "print(image_filenames)\n",
        "\n",
        "#creating X list with image content - images are downsized and flattened for SVM \n",
        "X1=[]\n",
        "for imagef in image_filenames:\n",
        "    img = imread(imagef)\n",
        "    if SVM == 1: \n",
        "       X1.append(img[::2,::2,0].flatten())  # flatten for SVM \n",
        "    else: \n",
        "       X1.append(img[::2,::2,0])  # only resize for DNN\n",
        " \n",
        "X1 = np.array(X1)  # transform X to nparray for further input to SVM or DNN\n",
        "\n",
        "# Normalize the pixel values \n",
        "#X1 = X1 / 255.  \n",
        "\n",
        "print(X1.shape)\n",
        "\n"
      ],
      "metadata": {
        "colab": {
          "base_uri": "https://localhost:8080/"
        },
        "id": "y-gq7aSApVZp",
        "outputId": "174cdae2-854e-4ee6-c9bc-d990432226e9"
      },
      "execution_count": 59,
      "outputs": [
        {
          "output_type": "stream",
          "name": "stdout",
          "text": [
            "['test/image/IMAGE_0000.jpg', 'test/image/IMAGE_0001.jpg', 'test/image/IMAGE_0002.jpg', 'test/image/IMAGE_0003.jpg', 'test/image/IMAGE_0004.jpg', 'test/image/IMAGE_0005.jpg', 'test/image/IMAGE_0006.jpg', 'test/image/IMAGE_0007.jpg', 'test/image/IMAGE_0008.jpg', 'test/image/IMAGE_0009.jpg', 'test/image/IMAGE_0010.jpg', 'test/image/IMAGE_0011.jpg', 'test/image/IMAGE_0012.jpg', 'test/image/IMAGE_0013.jpg', 'test/image/IMAGE_0014.jpg', 'test/image/IMAGE_0015.jpg', 'test/image/IMAGE_0016.jpg', 'test/image/IMAGE_0017.jpg', 'test/image/IMAGE_0018.jpg', 'test/image/IMAGE_0019.jpg', 'test/image/IMAGE_0020.jpg', 'test/image/IMAGE_0021.jpg', 'test/image/IMAGE_0022.jpg', 'test/image/IMAGE_0023.jpg', 'test/image/IMAGE_0024.jpg', 'test/image/IMAGE_0025.jpg', 'test/image/IMAGE_0026.jpg', 'test/image/IMAGE_0027.jpg', 'test/image/IMAGE_0028.jpg', 'test/image/IMAGE_0029.jpg', 'test/image/IMAGE_0030.jpg', 'test/image/IMAGE_0031.jpg', 'test/image/IMAGE_0032.jpg', 'test/image/IMAGE_0033.jpg', 'test/image/IMAGE_0034.jpg', 'test/image/IMAGE_0035.jpg', 'test/image/IMAGE_0036.jpg', 'test/image/IMAGE_0037.jpg', 'test/image/IMAGE_0038.jpg', 'test/image/IMAGE_0039.jpg', 'test/image/IMAGE_0040.jpg', 'test/image/IMAGE_0041.jpg', 'test/image/IMAGE_0042.jpg', 'test/image/IMAGE_0043.jpg', 'test/image/IMAGE_0044.jpg', 'test/image/IMAGE_0045.jpg', 'test/image/IMAGE_0046.jpg', 'test/image/IMAGE_0047.jpg', 'test/image/IMAGE_0048.jpg', 'test/image/IMAGE_0049.jpg', 'test/image/IMAGE_0050.jpg', 'test/image/IMAGE_0051.jpg', 'test/image/IMAGE_0052.jpg', 'test/image/IMAGE_0053.jpg', 'test/image/IMAGE_0054.jpg', 'test/image/IMAGE_0055.jpg', 'test/image/IMAGE_0056.jpg', 'test/image/IMAGE_0057.jpg', 'test/image/IMAGE_0058.jpg', 'test/image/IMAGE_0059.jpg', 'test/image/IMAGE_0060.jpg', 'test/image/IMAGE_0061.jpg', 'test/image/IMAGE_0062.jpg', 'test/image/IMAGE_0063.jpg', 'test/image/IMAGE_0064.jpg', 'test/image/IMAGE_0065.jpg', 'test/image/IMAGE_0066.jpg', 'test/image/IMAGE_0067.jpg', 'test/image/IMAGE_0068.jpg', 'test/image/IMAGE_0069.jpg', 'test/image/IMAGE_0070.jpg', 'test/image/IMAGE_0071.jpg', 'test/image/IMAGE_0072.jpg', 'test/image/IMAGE_0073.jpg', 'test/image/IMAGE_0074.jpg', 'test/image/IMAGE_0075.jpg', 'test/image/IMAGE_0076.jpg', 'test/image/IMAGE_0077.jpg', 'test/image/IMAGE_0078.jpg', 'test/image/IMAGE_0079.jpg', 'test/image/IMAGE_0080.jpg', 'test/image/IMAGE_0081.jpg', 'test/image/IMAGE_0082.jpg', 'test/image/IMAGE_0083.jpg', 'test/image/IMAGE_0084.jpg', 'test/image/IMAGE_0085.jpg', 'test/image/IMAGE_0086.jpg', 'test/image/IMAGE_0087.jpg', 'test/image/IMAGE_0088.jpg', 'test/image/IMAGE_0089.jpg', 'test/image/IMAGE_0090.jpg', 'test/image/IMAGE_0091.jpg', 'test/image/IMAGE_0092.jpg', 'test/image/IMAGE_0093.jpg', 'test/image/IMAGE_0094.jpg', 'test/image/IMAGE_0095.jpg', 'test/image/IMAGE_0096.jpg', 'test/image/IMAGE_0097.jpg', 'test/image/IMAGE_0098.jpg', 'test/image/IMAGE_0099.jpg', 'test/image/IMAGE_0100.jpg', 'test/image/IMAGE_0101.jpg', 'test/image/IMAGE_0102.jpg', 'test/image/IMAGE_0103.jpg', 'test/image/IMAGE_0104.jpg', 'test/image/IMAGE_0105.jpg', 'test/image/IMAGE_0106.jpg', 'test/image/IMAGE_0107.jpg', 'test/image/IMAGE_0108.jpg', 'test/image/IMAGE_0109.jpg', 'test/image/IMAGE_0110.jpg', 'test/image/IMAGE_0111.jpg', 'test/image/IMAGE_0112.jpg', 'test/image/IMAGE_0113.jpg', 'test/image/IMAGE_0114.jpg', 'test/image/IMAGE_0115.jpg', 'test/image/IMAGE_0116.jpg', 'test/image/IMAGE_0117.jpg', 'test/image/IMAGE_0118.jpg', 'test/image/IMAGE_0119.jpg', 'test/image/IMAGE_0120.jpg', 'test/image/IMAGE_0121.jpg', 'test/image/IMAGE_0122.jpg', 'test/image/IMAGE_0123.jpg', 'test/image/IMAGE_0124.jpg', 'test/image/IMAGE_0125.jpg', 'test/image/IMAGE_0126.jpg', 'test/image/IMAGE_0127.jpg', 'test/image/IMAGE_0128.jpg', 'test/image/IMAGE_0129.jpg', 'test/image/IMAGE_0130.jpg', 'test/image/IMAGE_0131.jpg', 'test/image/IMAGE_0132.jpg', 'test/image/IMAGE_0133.jpg', 'test/image/IMAGE_0134.jpg', 'test/image/IMAGE_0135.jpg', 'test/image/IMAGE_0136.jpg', 'test/image/IMAGE_0137.jpg', 'test/image/IMAGE_0138.jpg', 'test/image/IMAGE_0139.jpg', 'test/image/IMAGE_0140.jpg', 'test/image/IMAGE_0141.jpg', 'test/image/IMAGE_0142.jpg', 'test/image/IMAGE_0143.jpg', 'test/image/IMAGE_0144.jpg', 'test/image/IMAGE_0145.jpg', 'test/image/IMAGE_0146.jpg', 'test/image/IMAGE_0147.jpg', 'test/image/IMAGE_0148.jpg', 'test/image/IMAGE_0149.jpg', 'test/image/IMAGE_0150.jpg', 'test/image/IMAGE_0151.jpg', 'test/image/IMAGE_0152.jpg', 'test/image/IMAGE_0153.jpg', 'test/image/IMAGE_0154.jpg', 'test/image/IMAGE_0155.jpg', 'test/image/IMAGE_0156.jpg', 'test/image/IMAGE_0157.jpg', 'test/image/IMAGE_0158.jpg', 'test/image/IMAGE_0159.jpg', 'test/image/IMAGE_0160.jpg', 'test/image/IMAGE_0161.jpg', 'test/image/IMAGE_0162.jpg', 'test/image/IMAGE_0163.jpg', 'test/image/IMAGE_0164.jpg', 'test/image/IMAGE_0165.jpg', 'test/image/IMAGE_0166.jpg', 'test/image/IMAGE_0167.jpg', 'test/image/IMAGE_0168.jpg', 'test/image/IMAGE_0169.jpg', 'test/image/IMAGE_0170.jpg', 'test/image/IMAGE_0171.jpg', 'test/image/IMAGE_0172.jpg', 'test/image/IMAGE_0173.jpg', 'test/image/IMAGE_0174.jpg', 'test/image/IMAGE_0175.jpg', 'test/image/IMAGE_0176.jpg', 'test/image/IMAGE_0177.jpg', 'test/image/IMAGE_0178.jpg', 'test/image/IMAGE_0179.jpg', 'test/image/IMAGE_0180.jpg', 'test/image/IMAGE_0181.jpg', 'test/image/IMAGE_0182.jpg', 'test/image/IMAGE_0183.jpg', 'test/image/IMAGE_0184.jpg', 'test/image/IMAGE_0185.jpg', 'test/image/IMAGE_0186.jpg', 'test/image/IMAGE_0187.jpg', 'test/image/IMAGE_0188.jpg', 'test/image/IMAGE_0189.jpg', 'test/image/IMAGE_0190.jpg', 'test/image/IMAGE_0191.jpg', 'test/image/IMAGE_0192.jpg', 'test/image/IMAGE_0193.jpg', 'test/image/IMAGE_0194.jpg', 'test/image/IMAGE_0195.jpg', 'test/image/IMAGE_0196.jpg', 'test/image/IMAGE_0197.jpg', 'test/image/IMAGE_0198.jpg', 'test/image/IMAGE_0199.jpg']\n",
            "(200, 256, 256)\n"
          ]
        }
      ]
    },
    {
      "cell_type": "code",
      "source": [
        "from sklearn.model_selection import train_test_split\n",
        " \n",
        "# Split into training and test datasets 80:20 using train_test_split utility \n",
        "x_train,x_test,y_train,y_test=train_test_split(X,y,test_size=0.20)\n",
        "#x_train,x_test,y_train,y_test=train_test_split(X,y,test_size=0.20,random_state=24) #,stratify=y)\n",
        "print(type(x_train),x_train.shape,type(y_train),y_train.shape)\n",
        "print(y_test[0])"
      ],
      "metadata": {
        "id": "-y7RWIcuEwD-",
        "colab": {
          "base_uri": "https://localhost:8080/"
        },
        "outputId": "13e3fb60-e6f7-4fc6-c100-6e95b1583067"
      },
      "execution_count": 60,
      "outputs": [
        {
          "output_type": "stream",
          "name": "stdout",
          "text": [
            "<class 'numpy.ndarray'> (2400, 256, 256) <class 'numpy.ndarray'> (2400,)\n",
            "1\n"
          ]
        }
      ]
    },
    {
      "cell_type": "code",
      "source": [
        "#################################################################################\n",
        "############  SVM SUPPORT VECTOR MACHINES\n",
        "#################################################################################"
      ],
      "metadata": {
        "id": "KvRzib3kA5fe"
      },
      "execution_count": 61,
      "outputs": []
    },
    {
      "cell_type": "code",
      "source": [
        "from sklearn import svm\n",
        "\n",
        "if SVM == 1 : \n",
        "   # gamma is a parameter for non linear hyperplanes. The higher the gamma value it tries to exactly fit the training data set\n",
        "   #svc = svm.SVC()  # SVM Classifier with default rbf kernel \n",
        "   #svc = svm.SVC(kernel='linear')  # linear kernel \n",
        "   svc = svm.SVC(kernel='poly')   #, degree=4)    # poly kernel \n",
        "   #svc = svm.SVC(kernel='rbf')    #, C=1) #gamma = 0.01)\n",
        "\n",
        "   svc.fit(x_train, y_train)       # Fit it with the training data \n",
        "\n",
        "   y_pred = svc.predict(x_test)  # make the prediction on the validation/test data from the primary dataset \n",
        "   y1_pred = svc.predict(X1)     # make the prediction on the real test data "
      ],
      "metadata": {
        "id": "rj9g8_72BeDy"
      },
      "execution_count": 62,
      "outputs": []
    },
    {
      "cell_type": "code",
      "source": [
        "##################################################################################################\n",
        "##########  DNN IMPLEMENTATION START HERE \n",
        "##################################################################################################"
      ],
      "metadata": {
        "id": "FKdjFfgPyDgl"
      },
      "execution_count": 63,
      "outputs": []
    },
    {
      "cell_type": "code",
      "source": [
        "from tensorflow.keras.preprocessing.image import ImageDataGenerator\n",
        "\n",
        "if DNN == 2 : \n",
        "   datagen = ImageDataGenerator(\n",
        "        featurewise_center=False,  # set input mean to 0 over the dataset\n",
        "        samplewise_center=False,  # set each sample mean to 0\n",
        "        featurewise_std_normalization=False,  # divide inputs by std of the dataset\n",
        "        samplewise_std_normalization=False,  # divide each input by its std\n",
        "        zca_whitening=False,  # apply ZCA whitening\n",
        "        rotation_range = 30,  # randomly rotate images in the range (degrees, 0 to 180)\n",
        "        zoom_range = 0.2, # Randomly zoom image \n",
        "        width_shift_range=0.1,  # randomly shift images horizontally (fraction of total width)\n",
        "        height_shift_range=0.1,  # randomly shift images vertically (fraction of total height)\n",
        "        horizontal_flip = True,  # randomly flip images\n",
        "        vertical_flip=False)  # randomly flip images\n",
        "\n",
        "\n",
        "   datagen.fit(x_train)"
      ],
      "metadata": {
        "id": "oXBuzRPY8-nO"
      },
      "execution_count": 64,
      "outputs": []
    },
    {
      "cell_type": "code",
      "source": [
        "# DNN IMPLEMENTATION\n",
        "\n",
        "# Implement Keras framework for model definition and parametrization \n",
        "\n",
        "import tensorflow as tf\n",
        "import keras\n",
        "\n",
        "#tf.keras.backend.clear_session()\n",
        "\n",
        "print(tf.__version__)\n",
        "\n",
        "from tensorflow.keras import layers\n",
        "\n",
        "from keras.models import Sequential\n",
        "from keras.layers import Conv2D, MaxPooling2D\n",
        "from keras.layers import Activation, Dropout, Flatten, Dense\n",
        "\n",
        "\n",
        "if DNN == 1: \n",
        "\n",
        "    model = Sequential()\n",
        "    #model.add(keras.layers.BatchNormalization(input_shape = (128,128,3)))\n",
        "    model.add(keras.layers.BatchNormalization(input_shape = (256,256,1)))\n",
        "    #model.add(Conv2D(32, (3, 3), input_shape=(256, 256, 3)))\n",
        "\n",
        "    #CNN in front of the Dense layers\n",
        "    if CNN == 1:   \n",
        "       model.add(Conv2D(256, (3, 3)))\n",
        "       model.add(Activation('relu'))\n",
        "       model.add(MaxPooling2D(pool_size=(2, 2))) #Downsamples the input along the pool_size window by taking the maximum value \n",
        "\n",
        "       model.add(Conv2D(128, (3, 3)))\n",
        "       model.add(Activation('relu'))\n",
        "       model.add(MaxPooling2D(pool_size=(2, 2)))\n",
        "\n",
        "       model.add(Conv2D(64, (3, 3)))  #64\n",
        "       model.add(Activation('relu'))\n",
        "       model.add(MaxPooling2D(pool_size=(2, 2)))\n",
        "       #model.add(Dropout(0.5))   # use dropout to cut some connections and reduce overfitting \n",
        "\n",
        "\n",
        "    #Dense layers start here \n",
        "    #model.add(Flatten(input_shape=(256, 256, 3))) #use without Con2D layers  \n",
        "    model.add(Flatten())  # this converts our 3D feature maps to 1D feature vectors\n",
        "\n",
        "    #model.add(Dense(256))   #  64, 128, 256, 512 etc. \n",
        "    #model.add(Activation('relu'))\n",
        "                        #model.add(Dropout(0.5))   # dropout here degrades performance  \n",
        "\n",
        "    #model.add(Dense(128))   #  64, 128, 256, ....  \n",
        "    #model.add(Activation('relu'))\n",
        "                        #model.add(Dropout(0.5))   # dropout here degrades performance  \n",
        "\n",
        "    model.add(Dense(64))   #  64 \n",
        "    model.add(Activation('relu'))\n",
        "    model.add(Dropout(0.5))   # use dropout to cut some connections and reduce overfitting \n",
        "\n",
        "\n",
        "    if BINARY == 1 : \n",
        "       model.add(Dense(1))\n",
        "       model.add(Activation('sigmoid'))  # use sigmoid activation suitable for the binary outcome \n",
        "    else :\n",
        "       #Last layer of classification network #softmax used as the activation so that the result is formed as a probability distribution.\n",
        "       model.add(Dense(nr_classes))\n",
        "       model.add(Activation('softmax'))\n",
        "\n",
        "    opt = tf.keras.optimizers.Adam(learning_rate=0.0001)   # experimented with different lr \n",
        "    #opt = tf.keras.optimizers.SGD(learning_rate=0.01)     #             >> \n",
        "    \n",
        "    # model compile parametrization for binary and categorical classification \n",
        "    if BINARY == 1 : \n",
        "       model.compile(loss='binary_crossentropy', \n",
        "                     optimizer=opt, \n",
        "                     metrics=['accuracy'])\n",
        "    else: \n",
        "       model.compile(loss='sparse_categorical_crossentropy', \n",
        "                     optimizer=opt, \n",
        "                     metrics=['accuracy'])\n",
        "\n",
        "\n",
        "\n",
        "    model.summary()"
      ],
      "metadata": {
        "colab": {
          "base_uri": "https://localhost:8080/"
        },
        "id": "DcbosnUZ89UO",
        "outputId": "537c32fc-4055-4542-bba8-be8abf5d24c8"
      },
      "execution_count": 65,
      "outputs": [
        {
          "output_type": "stream",
          "name": "stdout",
          "text": [
            "2.7.0\n",
            "Model: \"sequential_3\"\n",
            "_________________________________________________________________\n",
            " Layer (type)                Output Shape              Param #   \n",
            "=================================================================\n",
            " batch_normalization_3 (Batc  (None, 256, 256, 1)      4         \n",
            " hNormalization)                                                 \n",
            "                                                                 \n",
            " flatten_3 (Flatten)         (None, 65536)             0         \n",
            "                                                                 \n",
            " dense_6 (Dense)             (None, 64)                4194368   \n",
            "                                                                 \n",
            " activation_6 (Activation)   (None, 64)                0         \n",
            "                                                                 \n",
            " dropout_3 (Dropout)         (None, 64)                0         \n",
            "                                                                 \n",
            " dense_7 (Dense)             (None, 4)                 260       \n",
            "                                                                 \n",
            " activation_7 (Activation)   (None, 4)                 0         \n",
            "                                                                 \n",
            "=================================================================\n",
            "Total params: 4,194,632\n",
            "Trainable params: 4,194,630\n",
            "Non-trainable params: 2\n",
            "_________________________________________________________________\n"
          ]
        }
      ]
    },
    {
      "cell_type": "code",
      "source": [
        "if DNN == 1 : \n",
        "   if BINARY==1 : \n",
        "      history = model.fit(x_train,y_train,validation_data=(x_test, y_test), verbose=1, \n",
        "                          class_weight = {0:3.15, 1:0.59},  # class_weights for binary\n",
        "                          epochs=20)  \n",
        "   else : \n",
        "      history = model.fit(x_train,y_train,validation_data=(x_test, y_test), verbose=1, \n",
        "                          class_weight = {0:0.87, 1:0.88, 2:1.65, 3:0.9},  # class_weights for multiclass \n",
        "                          epochs=20) \n",
        "     "
      ],
      "metadata": {
        "colab": {
          "base_uri": "https://localhost:8080/"
        },
        "id": "hXGVJiqDHEzR",
        "outputId": "26d1eb83-8ff5-42b8-f769-c6983ebd0b89"
      },
      "execution_count": 66,
      "outputs": [
        {
          "output_type": "stream",
          "name": "stdout",
          "text": [
            "Epoch 1/20\n",
            "75/75 [==============================] - 9s 117ms/step - loss: 1.5164 - accuracy: 0.3967 - val_loss: 1.5976 - val_accuracy: 0.2300\n",
            "Epoch 2/20\n",
            "75/75 [==============================] - 9s 114ms/step - loss: 1.1943 - accuracy: 0.4321 - val_loss: 1.0925 - val_accuracy: 0.4883\n",
            "Epoch 3/20\n",
            "75/75 [==============================] - 9s 114ms/step - loss: 1.1233 - accuracy: 0.4158 - val_loss: 1.0976 - val_accuracy: 0.4917\n",
            "Epoch 4/20\n",
            "75/75 [==============================] - 9s 115ms/step - loss: 1.0908 - accuracy: 0.4592 - val_loss: 0.9792 - val_accuracy: 0.5600\n",
            "Epoch 5/20\n",
            "75/75 [==============================] - 9s 114ms/step - loss: 1.0750 - accuracy: 0.4667 - val_loss: 0.9425 - val_accuracy: 0.5717\n",
            "Epoch 6/20\n",
            "75/75 [==============================] - 9s 114ms/step - loss: 1.0182 - accuracy: 0.4900 - val_loss: 0.8962 - val_accuracy: 0.5817\n",
            "Epoch 7/20\n",
            "75/75 [==============================] - 10s 136ms/step - loss: 0.9877 - accuracy: 0.5154 - val_loss: 0.8517 - val_accuracy: 0.6167\n",
            "Epoch 8/20\n",
            "75/75 [==============================] - 9s 114ms/step - loss: 0.9696 - accuracy: 0.5200 - val_loss: 0.8541 - val_accuracy: 0.6333\n",
            "Epoch 9/20\n",
            "75/75 [==============================] - 9s 114ms/step - loss: 0.9651 - accuracy: 0.5213 - val_loss: 0.8248 - val_accuracy: 0.6983\n",
            "Epoch 10/20\n",
            "75/75 [==============================] - 9s 114ms/step - loss: 0.9004 - accuracy: 0.5550 - val_loss: 0.7769 - val_accuracy: 0.6700\n",
            "Epoch 11/20\n",
            "75/75 [==============================] - 9s 114ms/step - loss: 0.8996 - accuracy: 0.5496 - val_loss: 0.7812 - val_accuracy: 0.7367\n",
            "Epoch 12/20\n",
            "75/75 [==============================] - 9s 114ms/step - loss: 0.8772 - accuracy: 0.5688 - val_loss: 0.7450 - val_accuracy: 0.7117\n",
            "Epoch 13/20\n",
            "75/75 [==============================] - 9s 114ms/step - loss: 0.8629 - accuracy: 0.5562 - val_loss: 0.7814 - val_accuracy: 0.7533\n",
            "Epoch 14/20\n",
            "75/75 [==============================] - 9s 116ms/step - loss: 0.8267 - accuracy: 0.5833 - val_loss: 0.7243 - val_accuracy: 0.7317\n",
            "Epoch 15/20\n",
            "75/75 [==============================] - 9s 120ms/step - loss: 0.8043 - accuracy: 0.5975 - val_loss: 0.7158 - val_accuracy: 0.7400\n",
            "Epoch 16/20\n",
            "75/75 [==============================] - 9s 123ms/step - loss: 0.8182 - accuracy: 0.6046 - val_loss: 0.6921 - val_accuracy: 0.7467\n",
            "Epoch 17/20\n",
            "75/75 [==============================] - 9s 121ms/step - loss: 0.8014 - accuracy: 0.6250 - val_loss: 0.6695 - val_accuracy: 0.7517\n",
            "Epoch 18/20\n",
            "75/75 [==============================] - 9s 120ms/step - loss: 0.7778 - accuracy: 0.6237 - val_loss: 0.6712 - val_accuracy: 0.7667\n",
            "Epoch 19/20\n",
            "75/75 [==============================] - 9s 120ms/step - loss: 0.7703 - accuracy: 0.6363 - val_loss: 0.6570 - val_accuracy: 0.7533\n",
            "Epoch 20/20\n",
            "75/75 [==============================] - 9s 120ms/step - loss: 0.7721 - accuracy: 0.6237 - val_loss: 0.6735 - val_accuracy: 0.7883\n"
          ]
        }
      ]
    },
    {
      "cell_type": "code",
      "source": [
        "if DNN == 1 : \n",
        "   test_loss, test_acc = model.evaluate(x_test, y_test)\n",
        "\n",
        "   print(test_loss, test_acc)"
      ],
      "metadata": {
        "colab": {
          "base_uri": "https://localhost:8080/"
        },
        "id": "iDwaJbdpBoCc",
        "outputId": "2247db22-57d4-4590-992c-032906f61b57"
      },
      "execution_count": 67,
      "outputs": [
        {
          "output_type": "stream",
          "name": "stdout",
          "text": [
            "19/19 [==============================] - 0s 18ms/step - loss: 0.6735 - accuracy: 0.7883\n",
            "0.6735196113586426 0.7883333563804626\n"
          ]
        }
      ]
    },
    {
      "cell_type": "code",
      "source": [
        "def plot_hist(hist):\n",
        "    plt.plot(hist.history[\"accuracy\"])\n",
        "    plt.plot(hist.history[\"val_accuracy\"])\n",
        "    plt.title(\"Model Accuracy\")\n",
        "    plt.xlabel(\"Runs/Epochs\")\n",
        "    plt.ylabel(\"Accuracy\")\n",
        "    plt.legend([\"train\", \"validation\"], loc=\"lower right\")\n",
        "    plt.show()\n",
        "\n",
        "if DNN == 1 : \n",
        "   plot_hist(history)"
      ],
      "metadata": {
        "colab": {
          "base_uri": "https://localhost:8080/",
          "height": 295
        },
        "id": "wB9N8-c8_-lH",
        "outputId": "5eb08fd9-f5aa-4355-9655-ce35c78c7fb0"
      },
      "execution_count": 68,
      "outputs": [
        {
          "output_type": "display_data",
          "data": {
            "image/png": "[encoded data removed]",
            "text/plain": [
              "<Figure size 432x288 with 1 Axes>"
            ]
          },
          "metadata": {
            "needs_background": "light"
          }
        }
      ]
    },
    {
      "cell_type": "code",
      "source": [
        "# DNN Perform the prediction on the test data \n",
        "\n",
        "if DNN ==1 :\n",
        "   if BINARY == 1:  \n",
        "      y_pred = np.round_(model.predict(x_test))\n",
        "      y1_pred = np.round_(model.predict(X1))\n",
        "   else : \n",
        "      y_pred = np.argmax(model.predict(x_test), axis=1)\n",
        "      y1_pred = np.argmax(model.predict(X1), axis=1)\n",
        "\n",
        "   print(type(y_pred),y_pred.shape)\n",
        "\n",
        "   print(y_pred[0],y_pred[1],y_pred[2],y_pred[3])"
      ],
      "metadata": {
        "colab": {
          "base_uri": "https://localhost:8080/"
        },
        "id": "D65lvkgRAqsN",
        "outputId": "0e40fc9e-5fb7-424a-e751-bd100d737298"
      },
      "execution_count": 69,
      "outputs": [
        {
          "output_type": "stream",
          "name": "stdout",
          "text": [
            "<class 'numpy.ndarray'> (600,)\n",
            "1 2 1 0\n"
          ]
        }
      ]
    },
    {
      "cell_type": "code",
      "source": [
        "# Calculate predicted values and performance / accuracy metrics \n",
        "# https://towardsdatascience.com/multi-class-metrics-made-simple-part-i-precision-and-recall-9250280bddc2\n",
        "# https://towardsdatascience.com/multi-class-metrics-made-simple-part-ii-the-f1-score-ebe8b2c2ca1\n",
        "# Implement and plot Confusion matrix  \n",
        "from sklearn import metrics\n",
        "from sklearn.metrics import accuracy_score\n",
        "from sklearn.metrics import confusion_matrix,ConfusionMatrixDisplay\n",
        "\n",
        "accuracy = accuracy_score(y_test,y_pred)\n",
        "print('Accuracy: ', accuracy)\n",
        "\n",
        "# Confusion Matrix \n",
        "cm = confusion_matrix(y_test, y_pred)\n",
        "print('Confusion Matrix : ')\n",
        "print(cm)\n",
        "\n",
        "cm_vis = ConfusionMatrixDisplay(cm, display_labels=classes)\n",
        "cm_vis.plot()\n",
        "plt.show()\n",
        "\n",
        "# Performance report including precision, recall, f1-score\n",
        "print(metrics.classification_report(y_test, y_pred))"
      ],
      "metadata": {
        "colab": {
          "base_uri": "https://localhost:8080/",
          "height": 577
        },
        "id": "zFe4U_otAKGO",
        "outputId": "628efb36-1701-4cc6-9d80-b25bcf00503c"
      },
      "execution_count": 70,
      "outputs": [
        {
          "output_type": "stream",
          "name": "stdout",
          "text": [
            "Accuracy:  0.7883333333333333\n",
            "Confusion Matrix : \n",
            "[[115  44   6   3]\n",
            " [ 19 123  17   4]\n",
            " [  1  15  73   5]\n",
            " [  4   8   1 162]]\n"
          ]
        },
        {
          "output_type": "display_data",
          "data": {
            "image/png": "[encoded data removed]",
            "text/plain": [
              "<Figure size 432x288 with 2 Axes>"
            ]
          },
          "metadata": {
            "needs_background": "light"
          }
        },
        {
          "output_type": "stream",
          "name": "stdout",
          "text": [
            "              precision    recall  f1-score   support\n",
            "\n",
            "           0       0.83      0.68      0.75       168\n",
            "           1       0.65      0.75      0.70       163\n",
            "           2       0.75      0.78      0.76        94\n",
            "           3       0.93      0.93      0.93       175\n",
            "\n",
            "    accuracy                           0.79       600\n",
            "   macro avg       0.79      0.79      0.78       600\n",
            "weighted avg       0.80      0.79      0.79       600\n",
            "\n"
          ]
        }
      ]
    },
    {
      "cell_type": "code",
      "source": [
        "#Calculate Performance metrics on the real test data y1, y1_pred\n",
        "\n",
        "accuracy = accuracy_score(y1,y1_pred)\n",
        "print('Accuracy: ', round(accuracy,2))\n",
        "\n",
        "# Confusion Matrix \n",
        "cm = confusion_matrix(y1, y1_pred)\n",
        "print('Confusion Matrix : ')\n",
        "print(cm)\n",
        "\n",
        "cm_vis = ConfusionMatrixDisplay(cm, display_labels=classes)\n",
        "cm_vis.plot()\n",
        "plt.show()\n",
        "\n",
        "# Performance report including precision, recall, f1-score\n",
        "print(metrics.classification_report(y_test, y_pred))"
      ],
      "metadata": {
        "colab": {
          "base_uri": "https://localhost:8080/",
          "height": 579
        },
        "id": "_4gpN136t-Vq",
        "outputId": "99e98937-f1ce-4e47-9270-abb581f469da"
      },
      "execution_count": 71,
      "outputs": [
        {
          "output_type": "stream",
          "name": "stdout",
          "text": [
            "Accuracy:  0.76\n",
            "Confusion Matrix : \n",
            "[[34  6  3  0]\n",
            " [11 41  9  7]\n",
            " [ 1  6 27  3]\n",
            " [ 1  1  0 50]]\n"
          ]
        },
        {
          "output_type": "display_data",
          "data": {
            "image/png": "[encoded data removed]",
            "text/plain": [
              "<Figure size 432x288 with 2 Axes>"
            ]
          },
          "metadata": {
            "needs_background": "light"
          }
        },
        {
          "output_type": "stream",
          "name": "stdout",
          "text": [
            "              precision    recall  f1-score   support\n",
            "\n",
            "           0       0.83      0.68      0.75       168\n",
            "           1       0.65      0.75      0.70       163\n",
            "           2       0.75      0.78      0.76        94\n",
            "           3       0.93      0.93      0.93       175\n",
            "\n",
            "    accuracy                           0.79       600\n",
            "   macro avg       0.79      0.79      0.78       600\n",
            "weighted avg       0.80      0.79      0.79       600\n",
            "\n"
          ]
        }
      ]
    }
  ]
}